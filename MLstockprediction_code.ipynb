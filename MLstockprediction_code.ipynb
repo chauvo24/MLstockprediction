{
 "cells": [
  {
   "cell_type": "code",
   "execution_count": 1,
   "id": "5f173b7e",
   "metadata": {},
   "outputs": [],
   "source": [
    "import pandas as pd"
   ]
  },
  {
   "cell_type": "code",
   "execution_count": 2,
   "id": "28c85552",
   "metadata": {},
   "outputs": [
    {
     "name": "stdout",
     "output_type": "stream",
     "text": [
      "          Date  InflationR\n",
      "0   2012-12-31         0.3\n",
      "1   2013-01-31         0.4\n",
      "2   2013-02-28         0.3\n",
      "3   2013-03-31         0.1\n",
      "4   2013-04-30         0.1\n",
      "..         ...         ...\n",
      "117 2022-09-30         0.3\n",
      "118 2022-10-31         0.1\n",
      "119 2022-11-30         0.2\n",
      "120 2022-12-31         0.6\n",
      "121 2023-01-31         0.7\n",
      "\n",
      "[122 rows x 2 columns]\n"
     ]
    }
   ],
   "source": [
    "#read inflation rates data\n",
    "inflation = pd.read_excel('inflation.xlsx',skiprows=11, usecols='D:E',parse_dates=['Month'])\n",
    "\n",
    "#drop rows with null values\n",
    "inflation=inflation.dropna()\n",
    "\n",
    "#rename column\n",
    "inflation=inflation.rename(columns={'Value':'InflationR','Month':'Date'})\n",
    "\n",
    "print(inflation)"
   ]
  },
  {
   "cell_type": "code",
   "execution_count": 3,
   "id": "8addff6a",
   "metadata": {},
   "outputs": [
    {
     "name": "stdout",
     "output_type": "stream",
     "text": [
      "            InflationR\n",
      "Date                  \n",
      "2012-12-31         0.3\n",
      "2013-01-01         0.3\n",
      "2013-01-02         0.3\n",
      "2013-01-03         0.3\n",
      "2013-01-04         0.3\n",
      "...                ...\n",
      "2023-01-27         0.6\n",
      "2023-01-28         0.6\n",
      "2023-01-29         0.6\n",
      "2023-01-30         0.6\n",
      "2023-01-31         0.7\n",
      "\n",
      "[3684 rows x 1 columns]\n"
     ]
    }
   ],
   "source": [
    "#convert monthly values to daily\n",
    "inflation.set_index(\"Date\",inplace=True)\n",
    "\n",
    "daily_inflation = inflation.resample('D').ffill()\n",
    "\n",
    "print(daily_inflation)"
   ]
  },
  {
   "cell_type": "code",
   "execution_count": 4,
   "id": "539bc8be",
   "metadata": {},
   "outputs": [
    {
     "name": "stdout",
     "output_type": "stream",
     "text": [
      "           Date  InterestR\n",
      "0    2013-01-02      1.839\n",
      "1    2013-01-03      1.899\n",
      "2    2013-01-04      1.915\n",
      "4    2013-01-07      1.903\n",
      "5    2013-01-08      1.871\n",
      "...         ...        ...\n",
      "3067 2023-01-25      3.462\n",
      "3068 2023-01-26      3.493\n",
      "3069 2023-01-27      3.518\n",
      "3071 2023-01-30      3.551\n",
      "3072 2023-01-31      3.529\n",
      "\n",
      "[2536 rows x 2 columns]\n"
     ]
    }
   ],
   "source": [
    "#read interest rates data\n",
    "interest=pd.read_csv('^TNX.csv',header=0,usecols=[0,4],parse_dates=['Date'])\n",
    "\n",
    "#rename column and drop null values\n",
    "interest=interest.rename(columns={'Close':'InterestR'})\n",
    "interest=interest.dropna()\n",
    "\n",
    "print(interest)"
   ]
  },
  {
   "cell_type": "code",
   "execution_count": 5,
   "id": "c41ad50f",
   "metadata": {},
   "outputs": [
    {
     "name": "stdout",
     "output_type": "stream",
     "text": [
      "           Date  Market_Index\n",
      "0    2013-01-02    146.059998\n",
      "1    2013-01-03    145.729996\n",
      "2    2013-01-04    146.369995\n",
      "3    2013-01-07    145.970001\n",
      "4    2013-01-08    145.550003\n",
      "...         ...           ...\n",
      "2533 2023-01-25    400.350006\n",
      "2534 2023-01-26    404.750000\n",
      "2535 2023-01-27    405.679993\n",
      "2536 2023-01-30    400.589996\n",
      "2537 2023-01-31    406.480011\n",
      "\n",
      "[2538 rows x 2 columns]\n"
     ]
    }
   ],
   "source": [
    "#read market index data\n",
    "market=pd.read_csv('SPY.csv',header=0,usecols=[0,4],parse_dates=['Date'])\n",
    "\n",
    "#rename column and drop null values\n",
    "market=market.dropna()\n",
    "market=market.rename(columns={'Close':'Market_Index'})\n",
    "\n",
    "print(market)"
   ]
  },
  {
   "cell_type": "code",
   "execution_count": 6,
   "id": "2427fb60",
   "metadata": {},
   "outputs": [
    {
     "name": "stdout",
     "output_type": "stream",
     "text": [
      "           Date       PRGS\n",
      "0    2013-01-02  21.540001\n",
      "1    2013-01-03  20.889999\n",
      "2    2013-01-04  22.020000\n",
      "3    2013-01-07  22.400000\n",
      "4    2013-01-08  22.490000\n",
      "...         ...        ...\n",
      "2533 2023-01-25  52.459999\n",
      "2534 2023-01-26  52.799999\n",
      "2535 2023-01-27  52.830002\n",
      "2536 2023-01-30  51.990002\n",
      "2537 2023-01-31  53.040001\n",
      "\n",
      "[2538 rows x 2 columns]\n"
     ]
    }
   ],
   "source": [
    "#read PRGS daily stock prices data\n",
    "prgs=pd.read_csv('PRGS.csv',usecols=[0,4],parse_dates=['Date'])\n",
    "\n",
    "#rename column and drop null values\n",
    "prgs=prgs.dropna()\n",
    "prgs=prgs.rename(columns={'Close':'PRGS'})\n",
    "\n",
    "print(prgs)"
   ]
  },
  {
   "cell_type": "code",
   "execution_count": 7,
   "id": "bbc06f57",
   "metadata": {},
   "outputs": [
    {
     "name": "stdout",
     "output_type": "stream",
     "text": [
      "           Date       ORCL\n",
      "0    2013-01-02  34.689999\n",
      "1    2013-01-03  34.310001\n",
      "2    2013-01-04  34.610001\n",
      "3    2013-01-07  34.430000\n",
      "4    2013-01-08  34.439999\n",
      "...         ...        ...\n",
      "2533 2023-01-25  89.639999\n",
      "2534 2023-01-26  89.830002\n",
      "2535 2023-01-27  88.989998\n",
      "2536 2023-01-30  87.349998\n",
      "2537 2023-01-31  88.459999\n",
      "\n",
      "[2538 rows x 2 columns]\n"
     ]
    }
   ],
   "source": [
    "#read ORCL daily stock prices data\n",
    "orcl=pd.read_csv('ORCL.csv',header=0,usecols=[0,4],parse_dates=['Date'])\n",
    "\n",
    "#rename column and drop null values\n",
    "orcl=orcl.dropna()\n",
    "orcl=orcl.rename(columns={'Close':'ORCL'})\n",
    "\n",
    "print(orcl)"
   ]
  },
  {
   "cell_type": "code",
   "execution_count": 25,
   "id": "010c14e1",
   "metadata": {},
   "outputs": [
    {
     "data": {
      "text/html": [
       "<div>\n",
       "<style scoped>\n",
       "    .dataframe tbody tr th:only-of-type {\n",
       "        vertical-align: middle;\n",
       "    }\n",
       "\n",
       "    .dataframe tbody tr th {\n",
       "        vertical-align: top;\n",
       "    }\n",
       "\n",
       "    .dataframe thead th {\n",
       "        text-align: right;\n",
       "    }\n",
       "</style>\n",
       "<table border=\"1\" class=\"dataframe\">\n",
       "  <thead>\n",
       "    <tr style=\"text-align: right;\">\n",
       "      <th></th>\n",
       "      <th>Date</th>\n",
       "      <th>PRGS</th>\n",
       "      <th>ORCL</th>\n",
       "      <th>Market_Index</th>\n",
       "      <th>InflationR</th>\n",
       "      <th>InterestR</th>\n",
       "    </tr>\n",
       "  </thead>\n",
       "  <tbody>\n",
       "    <tr>\n",
       "      <th>0</th>\n",
       "      <td>2013-01-02</td>\n",
       "      <td>21.540001</td>\n",
       "      <td>34.689999</td>\n",
       "      <td>146.059998</td>\n",
       "      <td>0.3</td>\n",
       "      <td>1.839</td>\n",
       "    </tr>\n",
       "    <tr>\n",
       "      <th>1</th>\n",
       "      <td>2013-01-03</td>\n",
       "      <td>20.889999</td>\n",
       "      <td>34.310001</td>\n",
       "      <td>145.729996</td>\n",
       "      <td>0.3</td>\n",
       "      <td>1.899</td>\n",
       "    </tr>\n",
       "    <tr>\n",
       "      <th>2</th>\n",
       "      <td>2013-01-04</td>\n",
       "      <td>22.020000</td>\n",
       "      <td>34.610001</td>\n",
       "      <td>146.369995</td>\n",
       "      <td>0.3</td>\n",
       "      <td>1.915</td>\n",
       "    </tr>\n",
       "    <tr>\n",
       "      <th>3</th>\n",
       "      <td>2013-01-07</td>\n",
       "      <td>22.400000</td>\n",
       "      <td>34.430000</td>\n",
       "      <td>145.970001</td>\n",
       "      <td>0.3</td>\n",
       "      <td>1.903</td>\n",
       "    </tr>\n",
       "    <tr>\n",
       "      <th>4</th>\n",
       "      <td>2013-01-08</td>\n",
       "      <td>22.490000</td>\n",
       "      <td>34.439999</td>\n",
       "      <td>145.550003</td>\n",
       "      <td>0.3</td>\n",
       "      <td>1.871</td>\n",
       "    </tr>\n",
       "    <tr>\n",
       "      <th>5</th>\n",
       "      <td>2013-01-09</td>\n",
       "      <td>22.730000</td>\n",
       "      <td>34.459999</td>\n",
       "      <td>145.919998</td>\n",
       "      <td>0.3</td>\n",
       "      <td>1.852</td>\n",
       "    </tr>\n",
       "    <tr>\n",
       "      <th>6</th>\n",
       "      <td>2013-01-10</td>\n",
       "      <td>23.010000</td>\n",
       "      <td>34.910000</td>\n",
       "      <td>147.080002</td>\n",
       "      <td>0.3</td>\n",
       "      <td>1.894</td>\n",
       "    </tr>\n",
       "    <tr>\n",
       "      <th>7</th>\n",
       "      <td>2013-01-11</td>\n",
       "      <td>23.080000</td>\n",
       "      <td>34.860001</td>\n",
       "      <td>147.070007</td>\n",
       "      <td>0.3</td>\n",
       "      <td>1.875</td>\n",
       "    </tr>\n",
       "    <tr>\n",
       "      <th>8</th>\n",
       "      <td>2013-01-14</td>\n",
       "      <td>23.230000</td>\n",
       "      <td>34.959999</td>\n",
       "      <td>146.970001</td>\n",
       "      <td>0.3</td>\n",
       "      <td>1.857</td>\n",
       "    </tr>\n",
       "    <tr>\n",
       "      <th>9</th>\n",
       "      <td>2013-01-15</td>\n",
       "      <td>23.320000</td>\n",
       "      <td>34.700001</td>\n",
       "      <td>147.070007</td>\n",
       "      <td>0.3</td>\n",
       "      <td>1.831</td>\n",
       "    </tr>\n",
       "  </tbody>\n",
       "</table>\n",
       "</div>"
      ],
      "text/plain": [
       "        Date       PRGS       ORCL  Market_Index  InflationR  InterestR\n",
       "0 2013-01-02  21.540001  34.689999    146.059998         0.3      1.839\n",
       "1 2013-01-03  20.889999  34.310001    145.729996         0.3      1.899\n",
       "2 2013-01-04  22.020000  34.610001    146.369995         0.3      1.915\n",
       "3 2013-01-07  22.400000  34.430000    145.970001         0.3      1.903\n",
       "4 2013-01-08  22.490000  34.439999    145.550003         0.3      1.871\n",
       "5 2013-01-09  22.730000  34.459999    145.919998         0.3      1.852\n",
       "6 2013-01-10  23.010000  34.910000    147.080002         0.3      1.894\n",
       "7 2013-01-11  23.080000  34.860001    147.070007         0.3      1.875\n",
       "8 2013-01-14  23.230000  34.959999    146.970001         0.3      1.857\n",
       "9 2013-01-15  23.320000  34.700001    147.070007         0.3      1.831"
      ]
     },
     "execution_count": 25,
     "metadata": {},
     "output_type": "execute_result"
    }
   ],
   "source": [
    "#merge all dataframes into one dataframe\n",
    "df = pd.merge(prgs,orcl,on='Date',how='left')\n",
    "df = pd.merge(df, market, on='Date')\n",
    "df=pd.merge(df,daily_inflation,on='Date')\n",
    "df = pd.merge(df, interest, on='Date')\n",
    "\n",
    "df.head(10)"
   ]
  },
  {
   "cell_type": "code",
   "execution_count": 9,
   "id": "b60d800e",
   "metadata": {},
   "outputs": [
    {
     "data": {
      "text/html": [
       "<div>\n",
       "<style scoped>\n",
       "    .dataframe tbody tr th:only-of-type {\n",
       "        vertical-align: middle;\n",
       "    }\n",
       "\n",
       "    .dataframe tbody tr th {\n",
       "        vertical-align: top;\n",
       "    }\n",
       "\n",
       "    .dataframe thead th {\n",
       "        text-align: right;\n",
       "    }\n",
       "</style>\n",
       "<table border=\"1\" class=\"dataframe\">\n",
       "  <thead>\n",
       "    <tr style=\"text-align: right;\">\n",
       "      <th></th>\n",
       "      <th>PRGS</th>\n",
       "      <th>ORCL</th>\n",
       "      <th>Market_Index</th>\n",
       "      <th>InflationR</th>\n",
       "      <th>InterestR</th>\n",
       "    </tr>\n",
       "  </thead>\n",
       "  <tbody>\n",
       "    <tr>\n",
       "      <th>count</th>\n",
       "      <td>2536.000000</td>\n",
       "      <td>2536.000000</td>\n",
       "      <td>2536.000000</td>\n",
       "      <td>2536.000000</td>\n",
       "      <td>2536.000000</td>\n",
       "    </tr>\n",
       "    <tr>\n",
       "      <th>mean</th>\n",
       "      <td>34.773734</td>\n",
       "      <td>51.776861</td>\n",
       "      <td>274.952677</td>\n",
       "      <td>0.219361</td>\n",
       "      <td>2.159226</td>\n",
       "    </tr>\n",
       "    <tr>\n",
       "      <th>std</th>\n",
       "      <td>9.156709</td>\n",
       "      <td>16.027252</td>\n",
       "      <td>87.228861</td>\n",
       "      <td>0.211857</td>\n",
       "      <td>0.704074</td>\n",
       "    </tr>\n",
       "    <tr>\n",
       "      <th>min</th>\n",
       "      <td>20.660000</td>\n",
       "      <td>29.959999</td>\n",
       "      <td>145.550003</td>\n",
       "      <td>-0.500000</td>\n",
       "      <td>0.499000</td>\n",
       "    </tr>\n",
       "    <tr>\n",
       "      <th>25%</th>\n",
       "      <td>25.945001</td>\n",
       "      <td>39.977500</td>\n",
       "      <td>205.267502</td>\n",
       "      <td>0.100000</td>\n",
       "      <td>1.720000</td>\n",
       "    </tr>\n",
       "    <tr>\n",
       "      <th>50%</th>\n",
       "      <td>34.970000</td>\n",
       "      <td>47.924999</td>\n",
       "      <td>259.794999</td>\n",
       "      <td>0.200000</td>\n",
       "      <td>2.220000</td>\n",
       "    </tr>\n",
       "    <tr>\n",
       "      <th>75%</th>\n",
       "      <td>42.650002</td>\n",
       "      <td>56.602499</td>\n",
       "      <td>330.717499</td>\n",
       "      <td>0.300000</td>\n",
       "      <td>2.643500</td>\n",
       "    </tr>\n",
       "    <tr>\n",
       "      <th>max</th>\n",
       "      <td>54.009998</td>\n",
       "      <td>103.650002</td>\n",
       "      <td>477.709991</td>\n",
       "      <td>0.800000</td>\n",
       "      <td>4.234000</td>\n",
       "    </tr>\n",
       "  </tbody>\n",
       "</table>\n",
       "</div>"
      ],
      "text/plain": [
       "              PRGS         ORCL  Market_Index   InflationR    InterestR\n",
       "count  2536.000000  2536.000000   2536.000000  2536.000000  2536.000000\n",
       "mean     34.773734    51.776861    274.952677     0.219361     2.159226\n",
       "std       9.156709    16.027252     87.228861     0.211857     0.704074\n",
       "min      20.660000    29.959999    145.550003    -0.500000     0.499000\n",
       "25%      25.945001    39.977500    205.267502     0.100000     1.720000\n",
       "50%      34.970000    47.924999    259.794999     0.200000     2.220000\n",
       "75%      42.650002    56.602499    330.717499     0.300000     2.643500\n",
       "max      54.009998   103.650002    477.709991     0.800000     4.234000"
      ]
     },
     "execution_count": 9,
     "metadata": {},
     "output_type": "execute_result"
    }
   ],
   "source": [
    "#summary stats of df\n",
    "df.describe()"
   ]
  },
  {
   "cell_type": "code",
   "execution_count": 10,
   "id": "921650bd",
   "metadata": {},
   "outputs": [],
   "source": [
    "#assign independent variables to X, and dependent variable to y\n",
    "X=df[['ORCL','Market_Index','InflationR','InterestR']]\n",
    "y=df[['PRGS']]"
   ]
  },
  {
   "cell_type": "code",
   "execution_count": 11,
   "id": "45a6bdf1",
   "metadata": {},
   "outputs": [],
   "source": [
    "from sklearn.model_selection import train_test_split\n",
    "\n",
    "#splitting dataset into training set and testing set\n",
    "X_train, X_test, y_train, y_test = train_test_split(X, y, test_size=0.20, random_state=123)"
   ]
  },
  {
   "cell_type": "code",
   "execution_count": 12,
   "id": "0e9d1de4",
   "metadata": {},
   "outputs": [],
   "source": [
    "from sklearn.linear_model import LinearRegression\n",
    "import statsmodels.api as sm\n",
    "from sklearn import metrics\n",
    "from sklearn.metrics import mean_squared_error\n",
    "from sklearn.metrics import r2_score\n",
    "\n",
    "#Perform Linear Regression\n",
    "reg = LinearRegression() "
   ]
  },
  {
   "cell_type": "code",
   "execution_count": 13,
   "id": "f6e1cbd9",
   "metadata": {},
   "outputs": [
    {
     "name": "stdout",
     "output_type": "stream",
     "text": [
      "                            OLS Regression Results                            \n",
      "==============================================================================\n",
      "Dep. Variable:                   PRGS   R-squared:                       0.848\n",
      "Model:                            OLS   Adj. R-squared:                  0.847\n",
      "Method:                 Least Squares   F-statistic:                     3520.\n",
      "Date:                Thu, 13 Apr 2023   Prob (F-statistic):               0.00\n",
      "Time:                        16:25:02   Log-Likelihood:                -6828.0\n",
      "No. Observations:                2536   AIC:                         1.367e+04\n",
      "Df Residuals:                    2531   BIC:                         1.370e+04\n",
      "Df Model:                           4                                         \n",
      "Covariance Type:            nonrobust                                         \n",
      "================================================================================\n",
      "                   coef    std err          t      P>|t|      [0.025      0.975]\n",
      "--------------------------------------------------------------------------------\n",
      "const            3.4879      0.354      9.855      0.000       2.794       4.182\n",
      "ORCL            -0.1532      0.017     -8.792      0.000      -0.187      -0.119\n",
      "Market_Index     0.1279      0.003     39.795      0.000       0.122       0.134\n",
      "InflationR      -2.8613      0.378     -7.562      0.000      -3.603      -2.119\n",
      "InterestR        2.1669      0.104     20.745      0.000       1.962       2.372\n",
      "==============================================================================\n",
      "Omnibus:                      402.028   Durbin-Watson:                   0.030\n",
      "Prob(Omnibus):                  0.000   Jarque-Bera (JB):              747.391\n",
      "Skew:                           0.986   Prob(JB):                    5.08e-163\n",
      "Kurtosis:                       4.784   Cond. No.                     1.67e+03\n",
      "==============================================================================\n",
      "\n",
      "Notes:\n",
      "[1] Standard Errors assume that the covariance matrix of the errors is correctly specified.\n",
      "[2] The condition number is large, 1.67e+03. This might indicate that there are\n",
      "strong multicollinearity or other numerical problems.\n"
     ]
    }
   ],
   "source": [
    "#create summary stats of multiple linear regression\n",
    "X = sm.add_constant(X)\n",
    "model = sm.OLS(y, X).fit()\n",
    "print(model.summary())"
   ]
  },
  {
   "cell_type": "code",
   "execution_count": 14,
   "id": "ad80c63a",
   "metadata": {},
   "outputs": [
    {
     "name": "stdout",
     "output_type": "stream",
     "text": [
      "Cor(PRGS, ORCL):  0.8608978981248151\n"
     ]
    }
   ],
   "source": [
    "#print correlation between PRGS and ORCL\n",
    "print('Cor(PRGS, ORCL): ', df['PRGS'].corr(df['ORCL']))"
   ]
  },
  {
   "cell_type": "code",
   "execution_count": 15,
   "id": "f45f515b",
   "metadata": {},
   "outputs": [
    {
     "data": {
      "text/plain": [
       "<AxesSubplot:>"
      ]
     },
     "execution_count": 15,
     "metadata": {},
     "output_type": "execute_result"
    },
    {
     "data": {
      "image/png": "[encoded data removed]",
      "text/plain": [
       "<Figure size 640x480 with 2 Axes>"
      ]
     },
     "metadata": {},
     "output_type": "display_data"
    }
   ],
   "source": [
    "import seaborn as sns\n",
    "\n",
    "#create correlation heatmap\n",
    "corr = df.corr()\n",
    "\n",
    "sns.heatmap(corr, \n",
    "            xticklabels=corr.columns.values,\n",
    "            yticklabels=corr.columns.values,\n",
    "            cmap='coolwarm',\n",
    "            annot=True)\n"
   ]
  },
  {
   "cell_type": "code",
   "execution_count": 16,
   "id": "c38517bb",
   "metadata": {},
   "outputs": [
    {
     "name": "stdout",
     "output_type": "stream",
     "text": [
      "Coefficient:  [[-0.16511697  0.1308061  -2.87384632  2.17374318]]\n",
      "Intercept:  [3.31958832]\n"
     ]
    }
   ],
   "source": [
    "#run linear regression on training set\n",
    "reg.fit(X_train, y_train) \n",
    "\n",
    "#print coefficients and y-intercept of training set\n",
    "print(\"Coefficient: \",reg.coef_)\n",
    "print(\"Intercept: \",reg.intercept_)"
   ]
  },
  {
   "cell_type": "code",
   "execution_count": 17,
   "id": "522fd249",
   "metadata": {},
   "outputs": [
    {
     "name": "stdout",
     "output_type": "stream",
     "text": [
      "3.7174857117635285\n"
     ]
    }
   ],
   "source": [
    "import numpy as np\n",
    "\n",
    "#predict PRGS stock prices based on independent variables in X_test (testing set)\n",
    "y_pred = reg.predict(X_test)\n",
    "\n",
    "#print RMSE between the predicted values and the actual values\n",
    "print(np.sqrt(metrics.mean_squared_error(y_test, y_pred)))"
   ]
  },
  {
   "cell_type": "code",
   "execution_count": 18,
   "id": "9a48de35",
   "metadata": {},
   "outputs": [
    {
     "data": {
      "text/plain": [
       "pandas.core.frame.DataFrame"
      ]
     },
     "execution_count": 18,
     "metadata": {},
     "output_type": "execute_result"
    }
   ],
   "source": [
    "type(y_test)"
   ]
  },
  {
   "cell_type": "code",
   "execution_count": 19,
   "id": "236a002e",
   "metadata": {},
   "outputs": [
    {
     "data": {
      "text/html": [
       "<div>\n",
       "<style scoped>\n",
       "    .dataframe tbody tr th:only-of-type {\n",
       "        vertical-align: middle;\n",
       "    }\n",
       "\n",
       "    .dataframe tbody tr th {\n",
       "        vertical-align: top;\n",
       "    }\n",
       "\n",
       "    .dataframe thead th {\n",
       "        text-align: right;\n",
       "    }\n",
       "</style>\n",
       "<table border=\"1\" class=\"dataframe\">\n",
       "  <thead>\n",
       "    <tr style=\"text-align: right;\">\n",
       "      <th></th>\n",
       "      <th>Date</th>\n",
       "      <th>y_test</th>\n",
       "      <th>y_pred</th>\n",
       "      <th>diff</th>\n",
       "    </tr>\n",
       "  </thead>\n",
       "  <tbody>\n",
       "    <tr>\n",
       "      <th>498</th>\n",
       "      <td>2013-01-09</td>\n",
       "      <td>22.730000</td>\n",
       "      <td>19.880502</td>\n",
       "      <td>2.849498</td>\n",
       "    </tr>\n",
       "    <tr>\n",
       "      <th>253</th>\n",
       "      <td>2013-01-18</td>\n",
       "      <td>23.540001</td>\n",
       "      <td>20.068856</td>\n",
       "      <td>3.471145</td>\n",
       "    </tr>\n",
       "    <tr>\n",
       "      <th>313</th>\n",
       "      <td>2013-01-29</td>\n",
       "      <td>24.299999</td>\n",
       "      <td>20.578199</td>\n",
       "      <td>3.721800</td>\n",
       "    </tr>\n",
       "    <tr>\n",
       "      <th>194</th>\n",
       "      <td>2013-02-01</td>\n",
       "      <td>23.799999</td>\n",
       "      <td>20.343504</td>\n",
       "      <td>3.456495</td>\n",
       "    </tr>\n",
       "    <tr>\n",
       "      <th>438</th>\n",
       "      <td>2013-02-06</td>\n",
       "      <td>23.010000</td>\n",
       "      <td>20.425022</td>\n",
       "      <td>2.584978</td>\n",
       "    </tr>\n",
       "    <tr>\n",
       "      <th>59</th>\n",
       "      <td>2013-02-07</td>\n",
       "      <td>23.010000</td>\n",
       "      <td>20.451070</td>\n",
       "      <td>2.558930</td>\n",
       "    </tr>\n",
       "    <tr>\n",
       "      <th>423</th>\n",
       "      <td>2013-02-12</td>\n",
       "      <td>23.400000</td>\n",
       "      <td>20.566296</td>\n",
       "      <td>2.833704</td>\n",
       "    </tr>\n",
       "    <tr>\n",
       "      <th>499</th>\n",
       "      <td>2013-02-14</td>\n",
       "      <td>23.600000</td>\n",
       "      <td>20.675414</td>\n",
       "      <td>2.924586</td>\n",
       "    </tr>\n",
       "    <tr>\n",
       "      <th>25</th>\n",
       "      <td>2013-02-20</td>\n",
       "      <td>23.250000</td>\n",
       "      <td>20.578635</td>\n",
       "      <td>2.671365</td>\n",
       "    </tr>\n",
       "    <tr>\n",
       "      <th>77</th>\n",
       "      <td>2013-03-06</td>\n",
       "      <td>23.750000</td>\n",
       "      <td>20.958597</td>\n",
       "      <td>2.791403</td>\n",
       "    </tr>\n",
       "  </tbody>\n",
       "</table>\n",
       "</div>"
      ],
      "text/plain": [
       "          Date     y_test     y_pred      diff\n",
       "498 2013-01-09  22.730000  19.880502  2.849498\n",
       "253 2013-01-18  23.540001  20.068856  3.471145\n",
       "313 2013-01-29  24.299999  20.578199  3.721800\n",
       "194 2013-02-01  23.799999  20.343504  3.456495\n",
       "438 2013-02-06  23.010000  20.425022  2.584978\n",
       "59  2013-02-07  23.010000  20.451070  2.558930\n",
       "423 2013-02-12  23.400000  20.566296  2.833704\n",
       "499 2013-02-14  23.600000  20.675414  2.924586\n",
       "25  2013-02-20  23.250000  20.578635  2.671365\n",
       "77  2013-03-06  23.750000  20.958597  2.791403"
      ]
     },
     "execution_count": 19,
     "metadata": {},
     "output_type": "execute_result"
    }
   ],
   "source": [
    "#extract dates from X_test to new dataframe\n",
    "test_dates = df.loc[X_test.index, 'Date']\n",
    "\n",
    "# create result dataframe to compare predicted vs actual values\n",
    "results_df = pd.DataFrame({'Date': test_dates.values, 'y_test': y_test.to_numpy().flatten(), 'y_pred': y_pred.flatten()})\n",
    "\n",
    "#create new column computing the difference between the predicted and actual values\n",
    "results_df['diff'] = results_df['y_test'] - results_df['y_pred']\n",
    "\n",
    "#sort by date ascending\n",
    "results_df=results_df.sort_values('Date', ascending=True)\n",
    "\n",
    "#show the first 10 rows (10 earliest dates)\n",
    "results_df.head(10)"
   ]
  },
  {
   "cell_type": "code",
   "execution_count": 20,
   "id": "ebd45fcd",
   "metadata": {},
   "outputs": [
    {
     "data": {
      "text/html": [
       "<div>\n",
       "<style scoped>\n",
       "    .dataframe tbody tr th:only-of-type {\n",
       "        vertical-align: middle;\n",
       "    }\n",
       "\n",
       "    .dataframe tbody tr th {\n",
       "        vertical-align: top;\n",
       "    }\n",
       "\n",
       "    .dataframe thead th {\n",
       "        text-align: right;\n",
       "    }\n",
       "</style>\n",
       "<table border=\"1\" class=\"dataframe\">\n",
       "  <thead>\n",
       "    <tr style=\"text-align: right;\">\n",
       "      <th></th>\n",
       "      <th>Date</th>\n",
       "      <th>y_test</th>\n",
       "      <th>y_pred</th>\n",
       "      <th>diff</th>\n",
       "    </tr>\n",
       "  </thead>\n",
       "  <tbody>\n",
       "    <tr>\n",
       "      <th>2</th>\n",
       "      <td>2022-12-07</td>\n",
       "      <td>51.570000</td>\n",
       "      <td>48.572749</td>\n",
       "      <td>2.997251</td>\n",
       "    </tr>\n",
       "    <tr>\n",
       "      <th>391</th>\n",
       "      <td>2022-12-09</td>\n",
       "      <td>51.700001</td>\n",
       "      <td>48.755744</td>\n",
       "      <td>2.944257</td>\n",
       "    </tr>\n",
       "    <tr>\n",
       "      <th>162</th>\n",
       "      <td>2022-12-16</td>\n",
       "      <td>50.970001</td>\n",
       "      <td>47.307838</td>\n",
       "      <td>3.662163</td>\n",
       "    </tr>\n",
       "    <tr>\n",
       "      <th>326</th>\n",
       "      <td>2022-12-23</td>\n",
       "      <td>50.459999</td>\n",
       "      <td>47.635788</td>\n",
       "      <td>2.824211</td>\n",
       "    </tr>\n",
       "    <tr>\n",
       "      <th>104</th>\n",
       "      <td>2022-12-27</td>\n",
       "      <td>50.480000</td>\n",
       "      <td>47.653742</td>\n",
       "      <td>2.826258</td>\n",
       "    </tr>\n",
       "    <tr>\n",
       "      <th>321</th>\n",
       "      <td>2022-12-28</td>\n",
       "      <td>49.900002</td>\n",
       "      <td>47.199739</td>\n",
       "      <td>2.700263</td>\n",
       "    </tr>\n",
       "    <tr>\n",
       "      <th>308</th>\n",
       "      <td>2022-12-30</td>\n",
       "      <td>50.450001</td>\n",
       "      <td>47.704285</td>\n",
       "      <td>2.745716</td>\n",
       "    </tr>\n",
       "    <tr>\n",
       "      <th>290</th>\n",
       "      <td>2023-01-04</td>\n",
       "      <td>51.410000</td>\n",
       "      <td>45.906763</td>\n",
       "      <td>5.503237</td>\n",
       "    </tr>\n",
       "    <tr>\n",
       "      <th>13</th>\n",
       "      <td>2023-01-06</td>\n",
       "      <td>52.060001</td>\n",
       "      <td>45.972680</td>\n",
       "      <td>6.087321</td>\n",
       "    </tr>\n",
       "    <tr>\n",
       "      <th>273</th>\n",
       "      <td>2023-01-20</td>\n",
       "      <td>51.950001</td>\n",
       "      <td>46.545667</td>\n",
       "      <td>5.404334</td>\n",
       "    </tr>\n",
       "  </tbody>\n",
       "</table>\n",
       "</div>"
      ],
      "text/plain": [
       "          Date     y_test     y_pred      diff\n",
       "2   2022-12-07  51.570000  48.572749  2.997251\n",
       "391 2022-12-09  51.700001  48.755744  2.944257\n",
       "162 2022-12-16  50.970001  47.307838  3.662163\n",
       "326 2022-12-23  50.459999  47.635788  2.824211\n",
       "104 2022-12-27  50.480000  47.653742  2.826258\n",
       "321 2022-12-28  49.900002  47.199739  2.700263\n",
       "308 2022-12-30  50.450001  47.704285  2.745716\n",
       "290 2023-01-04  51.410000  45.906763  5.503237\n",
       "13  2023-01-06  52.060001  45.972680  6.087321\n",
       "273 2023-01-20  51.950001  46.545667  5.404334"
      ]
     },
     "execution_count": 20,
     "metadata": {},
     "output_type": "execute_result"
    }
   ],
   "source": [
    "#show the last 10 rows (10 most recent dates)\n",
    "results_df.tail(10)"
   ]
  },
  {
   "cell_type": "code",
   "execution_count": 21,
   "id": "26b95eac",
   "metadata": {},
   "outputs": [
    {
     "data": {
      "text/plain": [
       "0.8282948999588615"
      ]
     },
     "execution_count": 21,
     "metadata": {},
     "output_type": "execute_result"
    }
   ],
   "source": [
    "#compute R2 between y_test and y_pred\n",
    "r2_score(y_test, y_pred)"
   ]
  },
  {
   "cell_type": "code",
   "execution_count": 22,
   "id": "7b9b2163",
   "metadata": {},
   "outputs": [
    {
     "data": {
      "image/png": "[encoded data removed]",
      "text/plain": [
       "<Figure size 1200x400 with 1 Axes>"
      ]
     },
     "metadata": {},
     "output_type": "display_data"
    }
   ],
   "source": [
    "x = np.arange(50)\n",
    "\n",
    "#plot the first 50 observations to compare predicted vs actual\n",
    "import matplotlib.pyplot as plt\n",
    "plt.rcParams[\"figure.figsize\"] = (12,4)\n",
    "plt.plot(x, y_pred[:50], c = \"red\")\n",
    "plt.plot(x, y_test[:50], c = \"blue\")\n",
    "plt.show()"
   ]
  },
  {
   "cell_type": "code",
   "execution_count": 23,
   "id": "84f16f01",
   "metadata": {},
   "outputs": [
    {
     "data": {
      "image/png": "[encoded data removed]",
      "text/plain": [
       "<Figure size 1200x400 with 1 Axes>"
      ]
     },
     "metadata": {},
     "output_type": "display_data"
    }
   ],
   "source": [
    "# Plot regression line\n",
    "plt.scatter(y_test, y_pred)\n",
    "plt.xlabel('True Values')\n",
    "plt.ylabel('Predictions')\n",
    "plt.show()"
   ]
  }
 ],
 "metadata": {
  "kernelspec": {
   "display_name": "Python 3 (ipykernel)",
   "language": "python",
   "name": "python3"
  },
  "language_info": {
   "codemirror_mode": {
    "name": "ipython",
    "version": 3
   },
   "file_extension": ".py",
   "mimetype": "text/x-python",
   "name": "python",
   "nbconvert_exporter": "python",
   "pygments_lexer": "ipython3",
   "version": "3.9.13"
  }
 },
 "nbformat": 4,
 "nbformat_minor": 5
}
